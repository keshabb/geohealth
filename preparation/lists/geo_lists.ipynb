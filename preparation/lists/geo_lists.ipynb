{
 "cells": [
  {
   "cell_type": "code",
   "execution_count": 52,
   "metadata": {},
   "outputs": [],
   "source": [
    "# Prepare the lists of locations for the dropdown widgets in the plot (bokeh)\n",
    "import pandas as pd\n",
    "locs=pd.read_csv('../data/location_data.csv')\n",
    "loc_fields=locs[['CCG', 'Region', 'Sub-region']]\n",
    "loc_fields.head(10)\n",
    "ccgs=list(set(loc_fields['CCG']))\n",
    "regions=list(set(loc_fields['Region']))\n",
    "sub_regions=list(set(loc_fields['Sub-region']))\n",
    "file_names=['ccg.txt', 'region.txt', 'sub_region.txt']\n",
    "file_names=['../lists/'+fn for fn in file_names]\n",
    "regions_lists=[ccgs,regions,sub_regions]\n",
    "\n",
    "for i,fl in enumerate(regions_lists):\n",
    "    with open (file_names[i],'w') as f:\n",
    "        for element in fl:\n",
    "            f.write('{e}\\n'.format(e=element))"
   ]
  }
 ],
 "metadata": {
  "kernelspec": {
   "display_name": "Python 3",
   "language": "python",
   "name": "python3"
  },
  "language_info": {
   "codemirror_mode": {
    "name": "ipython",
    "version": 3
   },
   "file_extension": ".py",
   "mimetype": "text/x-python",
   "name": "python",
   "nbconvert_exporter": "python",
   "pygments_lexer": "ipython3",
   "version": "3.7.4"
  }
 },
 "nbformat": 4,
 "nbformat_minor": 2
}
