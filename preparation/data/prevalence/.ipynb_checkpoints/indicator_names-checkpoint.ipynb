{
 "cells": [
  {
   "cell_type": "raw",
   "metadata": {},
   "source": [
    "Explore indicator names to identify indicators that are not documented each year and indicators named differently in consecutive years, to support renaming or exclusion decisions."
   ]
  },
  {
   "cell_type": "code",
   "execution_count": 2,
   "metadata": {},
   "outputs": [],
   "source": [
    "import pandas as pd\n",
    "import os\n",
    "import re"
   ]
  },
  {
   "cell_type": "code",
   "execution_count": 5,
   "metadata": {},
   "outputs": [],
   "source": [
    "years=['2014','2015','2016','2017']\n",
    "dirpath='//Users/rony/Dropbox/2_projects/Health_Geo/tables/'"
   ]
  },
  {
   "cell_type": "code",
   "execution_count": null,
   "metadata": {},
   "outputs": [],
   "source": [
    "#check indicator names\n",
    "indicators=[]\n",
    "filenames=[]\n",
    "indicator_names={}\n",
    "for year in years:\n",
    "    input_path=dirpath+'{year}/prevalence/cleaned/'.format(year=year)\n",
    "    filenames=os.listdir(path=input_path)\n",
    "    filenames=[y for y in filenames if bool(re.search('.csv',y))==True] #clean none .csv files \n",
    "    \n",
    "    indicators=[re.findall('(.*).csv',x)[0] for x in filenames]\n",
    "    if '.ipynb_checkpoints' in filenames:\n",
    "        filenames.remove('.ipynb_checkpoints')\n",
    "    year_int=int(year)\n",
    "    indicator_names[year]=indicators"
   ]
  },
  {
   "cell_type": "code",
   "execution_count": 54,
   "metadata": {},
   "outputs": [
    {
     "name": "stdout",
     "output_type": "stream",
     "text": [
      "indicator names difference , 2014 and 2015: {'Learning_Disabilities_(18+)', 'Cardiovascular_Disease_-_Primary_Prevention', 'Hypothyroidism'}\n",
      "indicator names difference, 2015 and 2014: {'Learning_Disabilities', 'Heart_Failure_Due_To_Left_Ventrical_Systolic_Dysfunction', 'Cardiovascular_Disease_-_Primary_Prevention_(30-74)', 'Obesity', 'Learning_Disabilities_All_Ages'}\n",
      "-----------------\n",
      "indicator names difference , 2016 and 2015: set()\n",
      "indicator names difference, 2015 and 2016: {'Obesity_(16+)', 'Learning_Disabilities_All_Ages'}\n",
      "-----------------\n",
      "indicator names difference , 2017 and 2015: {'Obesity_(18+)'}\n",
      "indicator names difference, 2015 and 2017: {'Obesity_(16+)', 'Obesity', 'Learning_Disabilities_All_Ages'}\n",
      "-----------------\n",
      "indicator names difference , 2014 and 2016: {'Obesity_(16+)', 'Learning_Disabilities_(18+)', 'Cardiovascular_Disease_-_Primary_Prevention', 'Hypothyroidism'}\n",
      "indicator names difference, 2016 and 2014: {'Learning_Disabilities', 'Cardiovascular_Disease_-_Primary_Prevention_(30-74)', 'Heart_Failure_Due_To_Left_Ventrical_Systolic_Dysfunction', 'Obesity'}\n",
      "-----------------\n",
      "indicator names difference , 2015 and 2016: {'Obesity_(16+)', 'Learning_Disabilities_All_Ages'}\n",
      "indicator names difference, 2016 and 2015: set()\n",
      "-----------------\n",
      "indicator names difference , 2017 and 2016: {'Obesity_(18+)'}\n",
      "indicator names difference, 2016 and 2017: {'Obesity'}\n",
      "-----------------\n",
      "indicator names difference , 2014 and 2017: {'Obesity_(16+)', 'Learning_Disabilities_(18+)', 'Cardiovascular_Disease_-_Primary_Prevention', 'Hypothyroidism'}\n",
      "indicator names difference, 2017 and 2014: {'Learning_Disabilities', 'Cardiovascular_Disease_-_Primary_Prevention_(30-74)', 'Heart_Failure_Due_To_Left_Ventrical_Systolic_Dysfunction', 'Obesity_(18+)'}\n",
      "-----------------\n",
      "indicator names difference , 2015 and 2017: {'Obesity_(16+)', 'Obesity', 'Learning_Disabilities_All_Ages'}\n",
      "indicator names difference, 2017 and 2015: {'Obesity_(18+)'}\n",
      "-----------------\n",
      "indicator names difference , 2016 and 2017: {'Obesity'}\n",
      "indicator names difference, 2017 and 2016: {'Obesity_(18+)'}\n",
      "-----------------\n"
     ]
    }
   ],
   "source": [
    "#double iteration over the indicator list dictionary to identify names that differ for the same indicator\n",
    "for year, indicators in indicator_names.items():\n",
    "    #print (year,indicators)\n",
    "    if int(year)<2017:\n",
    "        year_1=str(int(year)+1)\n",
    "        for year, indicators in indicator_names.items(): \n",
    "            indicators_1=indicator_names[year_1]\n",
    "            if year!=year_1:\n",
    "                set1=set (indicators)\n",
    "                set2=set (indicators_1)\n",
    "                if set1 - set2 !={}:\n",
    "                    print ('indicator names difference , {year} and {year1}:'.format (year=year, year1=year_1), set1 - set2) \n",
    "                if set2 - set1 !={}:\n",
    "                    print ('indicator names difference, {year1} and {year}:'.format (year=year, year1=year_1), set2 - set1)\n",
    "                print ('-----------------')"
   ]
  },
  {
   "cell_type": "code",
   "execution_count": 62,
   "metadata": {},
   "outputs": [
    {
     "name": "stdout",
     "output_type": "stream",
     "text": [
      "indicator names difference , 2014 and 2015: {'Learning_Disabilities_(18+)', 'Cardiovascular_Disease_-_Primary_Prevention', 'Hypothyroidism'}\n",
      "indicator names difference, 2015 and 2014: {'Learning_Disabilities', 'Heart_Failure_Due_To_Left_Ventrical_Systolic_Dysfunction', 'Cardiovascular_Disease_-_Primary_Prevention_(30-74)', 'Obesity', 'Learning_Disabilities_All_Ages'}\n",
      "\n",
      "indicators: ['Chronic_Obstructive_Pulmonary_Disease', 'Hypothyroidism', 'Mental_Health', 'Learning_Disabilities_(18+)', 'Cancer', 'Hypertension', 'Asthma', 'Coronary_Heart_Disease', 'Rheumatoid_Arthritis_(16+)', 'Osteoporosis_(50+)', 'Chronic_Kidney_Disease_(18+)', 'Dementia', 'Stroke_And_Transient_Ischaemic_Attack', 'Heart_Failure', 'Depression_(18+)', 'Cardiovascular_Disease_-_Primary_Prevention', 'Epilepsy_(18+)', 'Obesity_(16+)', 'Peripheral_Arterial_Disease', 'Atrial_Fibrillation', 'Palliative_Care', 'Diabetes_Mellitus_(17+)']\n",
      "\n",
      "indicators_1: ['Chronic_Obstructive_Pulmonary_Disease', 'Mental_Health', 'Heart_Failure_Due_To_Left_Ventrical_Systolic_Dysfunction', 'Cancer', 'Hypertension', 'Asthma', 'Coronary_Heart_Disease', 'Rheumatoid_Arthritis_(16+)', 'Osteoporosis_(50+)', 'Chronic_Kidney_Disease_(18+)', 'Dementia', 'Stroke_And_Transient_Ischaemic_Attack', 'Heart_Failure', 'Depression_(18+)', 'Learning_Disabilities_All_Ages', 'Cardiovascular_Disease_-_Primary_Prevention_(30-74)', 'Epilepsy_(18+)', 'Obesity_(16+)', 'Peripheral_Arterial_Disease', 'Atrial_Fibrillation', 'Obesity', 'Palliative_Care', 'Learning_Disabilities', 'Diabetes_Mellitus_(17+)']\n",
      "\n",
      "-----------------\n",
      "indicator names difference , 2015 and 2016: {'Obesity_(16+)', 'Learning_Disabilities_All_Ages'}\n",
      "indicator names difference, 2016 and 2015: set()\n",
      "\n",
      "indicators: ['Chronic_Obstructive_Pulmonary_Disease', 'Mental_Health', 'Heart_Failure_Due_To_Left_Ventrical_Systolic_Dysfunction', 'Cancer', 'Hypertension', 'Asthma', 'Coronary_Heart_Disease', 'Rheumatoid_Arthritis_(16+)', 'Osteoporosis_(50+)', 'Chronic_Kidney_Disease_(18+)', 'Dementia', 'Stroke_And_Transient_Ischaemic_Attack', 'Heart_Failure', 'Depression_(18+)', 'Learning_Disabilities_All_Ages', 'Cardiovascular_Disease_-_Primary_Prevention_(30-74)', 'Epilepsy_(18+)', 'Obesity_(16+)', 'Peripheral_Arterial_Disease', 'Atrial_Fibrillation', 'Obesity', 'Palliative_Care', 'Learning_Disabilities', 'Diabetes_Mellitus_(17+)']\n",
      "\n",
      "indicators_1: ['Chronic_Obstructive_Pulmonary_Disease', 'Mental_Health', 'Heart_Failure_Due_To_Left_Ventrical_Systolic_Dysfunction', 'Cancer', 'Hypertension', 'Asthma', 'Coronary_Heart_Disease', 'Rheumatoid_Arthritis_(16+)', 'Osteoporosis_(50+)', 'Chronic_Kidney_Disease_(18+)', 'Dementia', 'Stroke_And_Transient_Ischaemic_Attack', 'Heart_Failure', 'Depression_(18+)', 'Cardiovascular_Disease_-_Primary_Prevention_(30-74)', 'Epilepsy_(18+)', 'Peripheral_Arterial_Disease', 'Atrial_Fibrillation', 'Obesity', 'Palliative_Care', 'Learning_Disabilities', 'Diabetes_Mellitus_(17+)']\n",
      "\n",
      "-----------------\n",
      "indicator names difference , 2016 and 2017: {'Obesity'}\n",
      "indicator names difference, 2017 and 2016: {'Obesity_(18+)'}\n",
      "\n",
      "indicators: ['Chronic_Obstructive_Pulmonary_Disease', 'Mental_Health', 'Heart_Failure_Due_To_Left_Ventrical_Systolic_Dysfunction', 'Cancer', 'Hypertension', 'Asthma', 'Coronary_Heart_Disease', 'Rheumatoid_Arthritis_(16+)', 'Osteoporosis_(50+)', 'Chronic_Kidney_Disease_(18+)', 'Dementia', 'Stroke_And_Transient_Ischaemic_Attack', 'Heart_Failure', 'Depression_(18+)', 'Cardiovascular_Disease_-_Primary_Prevention_(30-74)', 'Epilepsy_(18+)', 'Peripheral_Arterial_Disease', 'Atrial_Fibrillation', 'Obesity', 'Palliative_Care', 'Learning_Disabilities', 'Diabetes_Mellitus_(17+)']\n",
      "\n",
      "indicators_1: ['Chronic_Obstructive_Pulmonary_Disease', 'Mental_Health', 'Obesity_(18+)', 'Heart_Failure_Due_To_Left_Ventrical_Systolic_Dysfunction', 'Cancer', 'Hypertension', 'Asthma', 'Coronary_Heart_Disease', 'Rheumatoid_Arthritis_(16+)', 'Osteoporosis_(50+)', 'Chronic_Kidney_Disease_(18+)', 'Dementia', 'Stroke_And_Transient_Ischaemic_Attack', 'Heart_Failure', 'Depression_(18+)', 'Cardiovascular_Disease_-_Primary_Prevention_(30-74)', 'Epilepsy_(18+)', 'Peripheral_Arterial_Disease', 'Atrial_Fibrillation', 'Palliative_Care', 'Learning_Disabilities', 'Diabetes_Mellitus_(17+)']\n",
      "\n",
      "-----------------\n"
     ]
    }
   ],
   "source": [
    "#double iteration over the indicator list dictionary to identify names that differ for the same indicator\n",
    "for year, indicators in indicator_names.items():\n",
    "    #print (year,indicators)\n",
    "    if int(year)<2017:\n",
    "        year_1=str(int(year)+1)\n",
    "        indicators_1=indicator_names[year_1]\n",
    "        set1=set (indicators)\n",
    "        \n",
    "        set2=set (indicators_1)\n",
    "        print ('indicator names difference , {year} and {year1}:'.format (year=year, year1=year_1), set1 - set2) \n",
    "        print ('indicator names difference, {year1} and {year}:'.format (year=year, year1=year_1), set2 - set1)\n",
    "        print ()\n",
    "        print ('indicators:', indicators)\n",
    "        print ()\n",
    "\n",
    "        print ('indicators_1:', indicators_1)\n",
    "        print ()\n",
    "        print ('-----------------')"
   ]
  },
  {
   "cell_type": "raw",
   "metadata": {},
   "source": [
    "indicator names difference , 2014 and 2015: {'Learning_Disabilities_(18+)', 'Cardiovascular_Disease_-_Primary_Prevention', 'Hypothyroidism'}\n",
    "indicator names difference, 2015 and 2014: {'Learning_Disabilities', 'Heart_Failure_Due_To_Left_Ventrical_Systolic_Dysfunction', 'Cardiovascular_Disease_-_Primary_Prevention_(30-74)', 'Obesity', 'Learning_Disabilities_All_Ages'}"
   ]
  },
  {
   "cell_type": "raw",
   "metadata": {},
   "source": [
    "Summary of manual check and decisions: indicators_names_differences.xsls"
   ]
  },
  {
   "cell_type": "code",
   "execution_count": 70,
   "metadata": {},
   "outputs": [],
   "source": [
    "decisions=pd.read_csv('indicators_names_differences.csv')"
   ]
  },
  {
   "cell_type": "code",
   "execution_count": 72,
   "metadata": {},
   "outputs": [
    {
     "data": {
      "text/html": [
       "<div>\n",
       "<style scoped>\n",
       "    .dataframe tbody tr th:only-of-type {\n",
       "        vertical-align: middle;\n",
       "    }\n",
       "\n",
       "    .dataframe tbody tr th {\n",
       "        vertical-align: top;\n",
       "    }\n",
       "\n",
       "    .dataframe thead th {\n",
       "        text-align: right;\n",
       "    }\n",
       "</style>\n",
       "<table border=\"1\" class=\"dataframe\">\n",
       "  <thead>\n",
       "    <tr style=\"text-align: right;\">\n",
       "      <th></th>\n",
       "      <th>Indicator</th>\n",
       "      <th>Learning_Disabilities</th>\n",
       "      <th>Cardiovascular_Disease_-_Primary_Prevention</th>\n",
       "      <th>Obesity</th>\n",
       "      <th>Hypothyroidism</th>\n",
       "    </tr>\n",
       "  </thead>\n",
       "  <tbody>\n",
       "    <tr>\n",
       "      <th>0</th>\n",
       "      <td>2014</td>\n",
       "      <td>Learning_Disabilities_(18+)</td>\n",
       "      <td>Cardiovascular_Disease_-_Primary_Prevention</td>\n",
       "      <td>Obesity_(16+)</td>\n",
       "      <td>2014 only</td>\n",
       "    </tr>\n",
       "    <tr>\n",
       "      <th>1</th>\n",
       "      <td>2015</td>\n",
       "      <td>Learning_Disabilities</td>\n",
       "      <td>Cardiovascular_Disease_-_Primary_Prevention_(3...</td>\n",
       "      <td>Obesity_(16+), Obesity</td>\n",
       "      <td>Retired</td>\n",
       "    </tr>\n",
       "    <tr>\n",
       "      <th>2</th>\n",
       "      <td>2016</td>\n",
       "      <td>Learning_Disabilities_All_Ages</td>\n",
       "      <td>Cardiovascular_Disease_-_Primary_Prevention_(3...</td>\n",
       "      <td>Obesity</td>\n",
       "      <td>Retired</td>\n",
       "    </tr>\n",
       "    <tr>\n",
       "      <th>3</th>\n",
       "      <td>2017</td>\n",
       "      <td>Learning_Disabilities_All_Ages</td>\n",
       "      <td>Cardiovascular_Disease_-_Primary_Prevention_(3...</td>\n",
       "      <td>Obesity_(18+)</td>\n",
       "      <td>Retired</td>\n",
       "    </tr>\n",
       "    <tr>\n",
       "      <th>4</th>\n",
       "      <td>Difference</td>\n",
       "      <td>Change from 18+ to all ages  in 2015</td>\n",
       "      <td>Change of term only; Patients with a new diagn...</td>\n",
       "      <td>A register of patients with a BMI ≥30 in the p...</td>\n",
       "      <td>Retired</td>\n",
       "    </tr>\n",
       "    <tr>\n",
       "      <th>5</th>\n",
       "      <td>Decision</td>\n",
       "      <td>Name all: Learning_Disabilities</td>\n",
       "      <td>Name all: Cardiovascular_Disease_-_Primary_Pre...</td>\n",
       "      <td>Name all: Obesity  \\n2015: delete 16+</td>\n",
       "      <td>Remove</td>\n",
       "    </tr>\n",
       "    <tr>\n",
       "      <th>6</th>\n",
       "      <td>Comment</td>\n",
       "      <td>2014: 18+; 2015-17: All ages</td>\n",
       "      <td>None</td>\n",
       "      <td>2014: 16+; 2015-17: 18+</td>\n",
       "      <td>None</td>\n",
       "    </tr>\n",
       "  </tbody>\n",
       "</table>\n",
       "</div>"
      ],
      "text/plain": [
       "    Indicator                 Learning_Disabilities  \\\n",
       "0        2014           Learning_Disabilities_(18+)   \n",
       "1        2015                 Learning_Disabilities   \n",
       "2        2016        Learning_Disabilities_All_Ages   \n",
       "3        2017        Learning_Disabilities_All_Ages   \n",
       "4  Difference  Change from 18+ to all ages  in 2015   \n",
       "5   Decision        Name all: Learning_Disabilities   \n",
       "6     Comment          2014: 18+; 2015-17: All ages   \n",
       "\n",
       "         Cardiovascular_Disease_-_Primary_Prevention  \\\n",
       "0        Cardiovascular_Disease_-_Primary_Prevention   \n",
       "1  Cardiovascular_Disease_-_Primary_Prevention_(3...   \n",
       "2  Cardiovascular_Disease_-_Primary_Prevention_(3...   \n",
       "3  Cardiovascular_Disease_-_Primary_Prevention_(3...   \n",
       "4  Change of term only; Patients with a new diagn...   \n",
       "5  Name all: Cardiovascular_Disease_-_Primary_Pre...   \n",
       "6                                               None   \n",
       "\n",
       "                                             Obesity Hypothyroidism  \n",
       "0                                      Obesity_(16+)      2014 only  \n",
       "1                             Obesity_(16+), Obesity        Retired  \n",
       "2                                            Obesity        Retired  \n",
       "3                                      Obesity_(18+)        Retired  \n",
       "4  A register of patients with a BMI ≥30 in the p...        Retired  \n",
       "5            Name all: Obesity  \\n2015: delete 16+           Remove  \n",
       "6                            2014: 16+; 2015-17: 18+           None  "
      ]
     },
     "execution_count": 72,
     "metadata": {},
     "output_type": "execute_result"
    }
   ],
   "source": [
    "decisions"
   ]
  },
  {
   "cell_type": "code",
   "execution_count": null,
   "metadata": {},
   "outputs": [],
   "source": []
  }
 ],
 "metadata": {
  "kernelspec": {
   "display_name": "Python 3",
   "language": "python",
   "name": "python3"
  },
  "language_info": {
   "codemirror_mode": {
    "name": "ipython",
    "version": 3
   },
   "file_extension": ".py",
   "mimetype": "text/x-python",
   "name": "python",
   "nbconvert_exporter": "python",
   "pygments_lexer": "ipython3",
   "version": "3.7.4"
  }
 },
 "nbformat": 4,
 "nbformat_minor": 2
}
