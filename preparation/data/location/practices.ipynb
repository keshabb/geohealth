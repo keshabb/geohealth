{
  "cells": [
    {
      "cell_type": "raw",
      "source": [
        "Explore and prepare location data for features join"
      ],
      "metadata": {}
    },
    {
      "cell_type": "code",
      "source": [
        "import pandas as pd\n",
        "location=pd.read_csv('./data/Geo/medical/Practices/regions/gp_geo.csv')"
      ],
      "outputs": [],
      "execution_count": 1,
      "metadata": {}
    },
    {
      "cell_type": "code",
      "source": [
        "location.head()"
      ],
      "outputs": [
        {
          "output_type": "execute_result",
          "execution_count": 2,
          "data": {
            "text/html": [
              "<div>\n",
              "<style scoped>\n",
              "    .dataframe tbody tr th:only-of-type {\n",
              "        vertical-align: middle;\n",
              "    }\n",
              "\n",
              "    .dataframe tbody tr th {\n",
              "        vertical-align: top;\n",
              "    }\n",
              "\n",
              "    .dataframe thead th {\n",
              "        text-align: right;\n",
              "    }\n",
              "</style>\n",
              "<table border=\"1\" class=\"dataframe\">\n",
              "  <thead>\n",
              "    <tr style=\"text-align: right;\">\n",
              "      <th></th>\n",
              "      <th>Unnamed: 0</th>\n",
              "      <th>Practice Code</th>\n",
              "      <th>Practice Name</th>\n",
              "      <th>Postcode</th>\n",
              "      <th>Status Code</th>\n",
              "      <th>easting</th>\n",
              "      <th>latitude</th>\n",
              "      <th>longitude</th>\n",
              "      <th>northing</th>\n",
              "    </tr>\n",
              "  </thead>\n",
              "  <tbody>\n",
              "    <tr>\n",
              "      <th>0</th>\n",
              "      <td>0</td>\n",
              "      <td>A81002</td>\n",
              "      <td>QUEENS PARK MEDICAL CENTRE</td>\n",
              "      <td>TS18 2AW</td>\n",
              "      <td>A</td>\n",
              "      <td>444458</td>\n",
              "      <td>54.569163</td>\n",
              "      <td>-1.313880</td>\n",
              "      <td>519543</td>\n",
              "    </tr>\n",
              "    <tr>\n",
              "      <th>1</th>\n",
              "      <td>2</td>\n",
              "      <td>A81004</td>\n",
              "      <td>BLUEBELL MEDICAL CENTRE</td>\n",
              "      <td>TS5 8SB</td>\n",
              "      <td>A</td>\n",
              "      <td>447840</td>\n",
              "      <td>54.538132</td>\n",
              "      <td>-1.262129</td>\n",
              "      <td>516124</td>\n",
              "    </tr>\n",
              "    <tr>\n",
              "      <th>2</th>\n",
              "      <td>3</td>\n",
              "      <td>A81005</td>\n",
              "      <td>SPRINGWOOD SURGERY</td>\n",
              "      <td>TS14 7DJ</td>\n",
              "      <td>A</td>\n",
              "      <td>461221</td>\n",
              "      <td>54.532597</td>\n",
              "      <td>-1.055444</td>\n",
              "      <td>515668</td>\n",
              "    </tr>\n",
              "    <tr>\n",
              "      <th>3</th>\n",
              "      <td>4</td>\n",
              "      <td>A81006</td>\n",
              "      <td>TENNANT STREET MEDICAL PRACTICE</td>\n",
              "      <td>TS18 2AT</td>\n",
              "      <td>A</td>\n",
              "      <td>444479</td>\n",
              "      <td>54.568811</td>\n",
              "      <td>-1.313561</td>\n",
              "      <td>519504</td>\n",
              "    </tr>\n",
              "    <tr>\n",
              "      <th>4</th>\n",
              "      <td>5</td>\n",
              "      <td>A81007</td>\n",
              "      <td>BANKHOUSE SURGERY</td>\n",
              "      <td>TS24 7PW</td>\n",
              "      <td>A</td>\n",
              "      <td>450765</td>\n",
              "      <td>54.682342</td>\n",
              "      <td>-1.214164</td>\n",
              "      <td>532203</td>\n",
              "    </tr>\n",
              "  </tbody>\n",
              "</table>\n",
              "</div>"
            ],
            "text/plain": [
              "   Unnamed: 0 Practice Code                    Practice Name  Postcode  \\\n",
              "0           0        A81002       QUEENS PARK MEDICAL CENTRE  TS18 2AW   \n",
              "1           2        A81004          BLUEBELL MEDICAL CENTRE   TS5 8SB   \n",
              "2           3        A81005               SPRINGWOOD SURGERY  TS14 7DJ   \n",
              "3           4        A81006  TENNANT STREET MEDICAL PRACTICE  TS18 2AT   \n",
              "4           5        A81007                BANKHOUSE SURGERY  TS24 7PW   \n",
              "\n",
              "  Status Code  easting   latitude  longitude  northing  \n",
              "0           A   444458  54.569163  -1.313880    519543  \n",
              "1           A   447840  54.538132  -1.262129    516124  \n",
              "2           A   461221  54.532597  -1.055444    515668  \n",
              "3           A   444479  54.568811  -1.313561    519504  \n",
              "4           A   450765  54.682342  -1.214164    532203  "
            ]
          },
          "metadata": {}
        }
      ],
      "execution_count": 2,
      "metadata": {}
    },
    {
      "cell_type": "code",
      "source": [
        "location.info()"
      ],
      "outputs": [
        {
          "output_type": "stream",
          "name": "stdout",
          "text": [
            "<class 'pandas.core.frame.DataFrame'>\n",
            "RangeIndex: 11802 entries, 0 to 11801\n",
            "Data columns (total 9 columns):\n",
            "Unnamed: 0       11802 non-null int64\n",
            "Practice Code    11802 non-null object\n",
            "Practice Name    11802 non-null object\n",
            "Postcode         11802 non-null object\n",
            "Status Code      11802 non-null object\n",
            "easting          11802 non-null int64\n",
            "latitude         11802 non-null float64\n",
            "longitude        11802 non-null float64\n",
            "northing         11802 non-null int64\n",
            "dtypes: float64(2), int64(3), object(4)\n",
            "memory usage: 829.9+ KB\n"
          ]
        }
      ],
      "execution_count": 3,
      "metadata": {}
    },
    {
      "cell_type": "code",
      "source": [
        "len (location ['Practice Code'].unique())"
      ],
      "outputs": [
        {
          "output_type": "execute_result",
          "execution_count": 4,
          "data": {
            "text/plain": [
              "11802"
            ]
          },
          "metadata": {}
        }
      ],
      "execution_count": 4,
      "metadata": {}
    },
    {
      "cell_type": "raw",
      "source": [
        "The list include practices in Wales that are not part of the study as they do not have QoF data and are now filtered out"
      ],
      "metadata": {}
    },
    {
      "cell_type": "code",
      "source": [
        "#join regional data to location \n",
        "regional=pd.read_csv('./data/Geo/GPs_CCGs_NHS_Regions.csv')\n",
        "loc_reg_outer=pd.concat([location, regional], axis=1, join='outer')\n",
        "\n",
        "#select the rows for practices in location but not in regional\n",
        "loc_not_in_reg=loc_reg_outer.loc[loc_reg_outer['CCG name'].notnull()]"
      ],
      "outputs": [],
      "execution_count": 5,
      "metadata": {}
    },
    {
      "cell_type": "code",
      "source": [
        "loc_not_in_reg.info()"
      ],
      "outputs": [
        {
          "output_type": "stream",
          "name": "stdout",
          "text": [
            "<class 'pandas.core.frame.DataFrame'>\n",
            "Int64Index: 7392 entries, 0 to 7391\n",
            "Data columns (total 17 columns):\n",
            "Unnamed: 0                   7392 non-null int64\n",
            "Practice Code                7392 non-null object\n",
            "Practice Name                7392 non-null object\n",
            "Postcode                     7392 non-null object\n",
            "Status Code                  7392 non-null object\n",
            "easting                      7392 non-null int64\n",
            "latitude                     7392 non-null float64\n",
            "longitude                    7392 non-null float64\n",
            "northing                     7392 non-null int64\n",
            "Region geography code        7392 non-null object\n",
            "Region name                  7392 non-null object\n",
            "Sub-region geography code    7392 non-null object\n",
            "Sub-region name              7392 non-null object\n",
            "CCG geography code           7392 non-null object\n",
            "CCG name                     7392 non-null object\n",
            "Practice code                7392 non-null object\n",
            "Practice name                7392 non-null object\n",
            "dtypes: float64(2), int64(3), object(12)\n",
            "memory usage: 1.0+ MB\n"
          ]
        }
      ],
      "execution_count": 7,
      "metadata": {}
    },
    {
      "cell_type": "code",
      "source": [
        "loc_not_in_reg.columns"
      ],
      "outputs": [
        {
          "output_type": "execute_result",
          "execution_count": 8,
          "data": {
            "text/plain": [
              "Index(['Unnamed: 0', 'Practice Code', 'Practice Name', 'Postcode',\n",
              "       'Status Code', 'easting', 'latitude', 'longitude', 'northing',\n",
              "       'Region geography code', 'Region name', 'Sub-region geography code',\n",
              "       'Sub-region name', 'CCG geography code', 'CCG name', 'Practice code',\n",
              "       'Practice name'],\n",
              "      dtype='object')"
            ]
          },
          "metadata": {}
        }
      ],
      "execution_count": 8,
      "metadata": {}
    },
    {
      "cell_type": "code",
      "source": [
        "loc_not_in_reg=loc_not_in_reg[['Practice Code', 'Practice Name', 'Postcode',\n",
        "       'Status Code', 'latitude', 'longitude', 'easting', 'northing']]"
      ],
      "outputs": [],
      "execution_count": 9,
      "metadata": {}
    },
    {
      "cell_type": "code",
      "source": [
        "loc_not_in_reg.head()"
      ],
      "outputs": [
        {
          "output_type": "execute_result",
          "execution_count": 10,
          "data": {
            "text/html": [
              "<div>\n",
              "<style scoped>\n",
              "    .dataframe tbody tr th:only-of-type {\n",
              "        vertical-align: middle;\n",
              "    }\n",
              "\n",
              "    .dataframe tbody tr th {\n",
              "        vertical-align: top;\n",
              "    }\n",
              "\n",
              "    .dataframe thead th {\n",
              "        text-align: right;\n",
              "    }\n",
              "</style>\n",
              "<table border=\"1\" class=\"dataframe\">\n",
              "  <thead>\n",
              "    <tr style=\"text-align: right;\">\n",
              "      <th></th>\n",
              "      <th>Practice Code</th>\n",
              "      <th>Practice Name</th>\n",
              "      <th>Postcode</th>\n",
              "      <th>Status Code</th>\n",
              "      <th>latitude</th>\n",
              "      <th>longitude</th>\n",
              "      <th>easting</th>\n",
              "      <th>northing</th>\n",
              "    </tr>\n",
              "  </thead>\n",
              "  <tbody>\n",
              "    <tr>\n",
              "      <th>0</th>\n",
              "      <td>A81002</td>\n",
              "      <td>QUEENS PARK MEDICAL CENTRE</td>\n",
              "      <td>TS18 2AW</td>\n",
              "      <td>A</td>\n",
              "      <td>54.569163</td>\n",
              "      <td>-1.313880</td>\n",
              "      <td>444458</td>\n",
              "      <td>519543</td>\n",
              "    </tr>\n",
              "    <tr>\n",
              "      <th>1</th>\n",
              "      <td>A81004</td>\n",
              "      <td>BLUEBELL MEDICAL CENTRE</td>\n",
              "      <td>TS5 8SB</td>\n",
              "      <td>A</td>\n",
              "      <td>54.538132</td>\n",
              "      <td>-1.262129</td>\n",
              "      <td>447840</td>\n",
              "      <td>516124</td>\n",
              "    </tr>\n",
              "    <tr>\n",
              "      <th>2</th>\n",
              "      <td>A81005</td>\n",
              "      <td>SPRINGWOOD SURGERY</td>\n",
              "      <td>TS14 7DJ</td>\n",
              "      <td>A</td>\n",
              "      <td>54.532597</td>\n",
              "      <td>-1.055444</td>\n",
              "      <td>461221</td>\n",
              "      <td>515668</td>\n",
              "    </tr>\n",
              "    <tr>\n",
              "      <th>3</th>\n",
              "      <td>A81006</td>\n",
              "      <td>TENNANT STREET MEDICAL PRACTICE</td>\n",
              "      <td>TS18 2AT</td>\n",
              "      <td>A</td>\n",
              "      <td>54.568811</td>\n",
              "      <td>-1.313561</td>\n",
              "      <td>444479</td>\n",
              "      <td>519504</td>\n",
              "    </tr>\n",
              "    <tr>\n",
              "      <th>4</th>\n",
              "      <td>A81007</td>\n",
              "      <td>BANKHOUSE SURGERY</td>\n",
              "      <td>TS24 7PW</td>\n",
              "      <td>A</td>\n",
              "      <td>54.682342</td>\n",
              "      <td>-1.214164</td>\n",
              "      <td>450765</td>\n",
              "      <td>532203</td>\n",
              "    </tr>\n",
              "  </tbody>\n",
              "</table>\n",
              "</div>"
            ],
            "text/plain": [
              "  Practice Code                    Practice Name  Postcode Status Code  \\\n",
              "0        A81002       QUEENS PARK MEDICAL CENTRE  TS18 2AW           A   \n",
              "1        A81004          BLUEBELL MEDICAL CENTRE   TS5 8SB           A   \n",
              "2        A81005               SPRINGWOOD SURGERY  TS14 7DJ           A   \n",
              "3        A81006  TENNANT STREET MEDICAL PRACTICE  TS18 2AT           A   \n",
              "4        A81007                BANKHOUSE SURGERY  TS24 7PW           A   \n",
              "\n",
              "    latitude  longitude  easting  northing  \n",
              "0  54.569163  -1.313880   444458    519543  \n",
              "1  54.538132  -1.262129   447840    516124  \n",
              "2  54.532597  -1.055444   461221    515668  \n",
              "3  54.568811  -1.313561   444479    519504  \n",
              "4  54.682342  -1.214164   450765    532203  "
            ]
          },
          "metadata": {}
        }
      ],
      "execution_count": 10,
      "metadata": {}
    },
    {
      "cell_type": "code",
      "source": [
        "loc_not_in_reg.to_csv('./data/Geo/medical/Practices/GPs_locations_Eng.csv')"
      ],
      "outputs": [],
      "execution_count": 87,
      "metadata": {}
    },
    {
      "cell_type": "raw",
      "source": [
        "The table can be used to be joined on practice code. "
      ],
      "metadata": {}
    }
  ],
  "metadata": {
    "kernelspec": {
      "name": "python3",
      "language": "python",
      "display_name": "Python 3"
    },
    "language_info": {
      "name": "python",
      "version": "3.7.4",
      "mimetype": "text/x-python",
      "codemirror_mode": {
        "name": "ipython",
        "version": 3
      },
      "pygments_lexer": "ipython3",
      "nbconvert_exporter": "python",
      "file_extension": ".py"
    },
    "kernel_info": {
      "name": "python3"
    },
    "nteract": {
      "version": "0.12.3"
    }
  },
  "nbformat": 4,
  "nbformat_minor": 2
}