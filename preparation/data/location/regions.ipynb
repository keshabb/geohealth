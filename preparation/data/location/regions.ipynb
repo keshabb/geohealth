{
 "cells": [
  {
   "cell_type": "raw",
   "metadata": {},
   "source": [
    "Explore and prepare regional data for joining to other data sources."
   ]
  },
  {
   "cell_type": "code",
   "execution_count": 75,
   "metadata": {},
   "outputs": [],
   "source": [
    "import pandas as pd\n",
    "regional=pd.read_csv('./data/raw_data/geo/GPs_CCGs_NHS_Regions.csv')\n",
    "check1=list (regional['CCG name']) # for CCG strip check "
   ]
  },
  {
   "cell_type": "code",
   "execution_count": 76,
   "metadata": {},
   "outputs": [
    {
     "data": {
      "text/plain": [
       "array(['NORTH OF ENGLAND', 'MIDLANDS AND EAST OF ENGLAND', 'LONDON',\n",
       "       'SOUTH OF ENGLAND'], dtype=object)"
      ]
     },
     "execution_count": 76,
     "metadata": {},
     "output_type": "execute_result"
    }
   ],
   "source": [
    "#the regions\n",
    "regional['Region name'].unique()"
   ]
  },
  {
   "cell_type": "code",
   "execution_count": 77,
   "metadata": {},
   "outputs": [
    {
     "data": {
      "text/plain": [
       "array(['NHS ENGLAND YORKSHIRE AND HUMBER',\n",
       "       'NHS ENGLAND CUMBRIA AND NORTH EAST',\n",
       "       'NHS ENGLAND CHESHIRE AND MERSEYSIDE',\n",
       "       'NHS ENGLAND GREATER MANCHESTER',\n",
       "       'NHS ENGLAND LANCASHIRE AND SOUTH CUMBRIA',\n",
       "       'NHS ENGLAND NORTH MIDLANDS', 'NHS ENGLAND WEST MIDLANDS',\n",
       "       'NHS ENGLAND CENTRAL MIDLANDS', 'NHS ENGLAND EAST',\n",
       "       'LONDON NORTH EAST AND CENTRAL', 'LONDON NORTH WEST',\n",
       "       'LONDON SOUTH', 'NHS ENGLAND WESSEX', 'NHS ENGLAND SOUTH WEST',\n",
       "       'NHS ENGLAND SOUTH EAST', 'NHS ENGLAND SOUTH CENTRAL'],\n",
       "      dtype=object)"
      ]
     },
     "execution_count": 77,
     "metadata": {},
     "output_type": "execute_result"
    }
   ],
   "source": [
    "#the sub-regions\n",
    "regional['Sub-region name'].unique()"
   ]
  },
  {
   "cell_type": "raw",
   "metadata": {},
   "source": [
    "Strip sub-regions names"
   ]
  },
  {
   "cell_type": "code",
   "execution_count": 78,
   "metadata": {},
   "outputs": [],
   "source": [
    "regional['Sub-region name']=regional['Sub-region name'].str.replace('NHS ENGLAND','')"
   ]
  },
  {
   "cell_type": "raw",
   "metadata": {},
   "source": [
    "Strip CCGs names"
   ]
  },
  {
   "cell_type": "code",
   "execution_count": null,
   "metadata": {},
   "outputs": [],
   "source": [
    "temp_series=regional['CCG name'].str.rstrip('CCG')\n",
    "temp_series1=temp_series.str.lstrip('NHS')\n",
    "temp_series2=temp_series1.str.strip()\n",
    "regional['CCG name']=temp_series2\n",
    "regional.rename(columns = {'CCG name':'CCG'}, inplace = True)\n",
    "\n",
    "#check CCG cleaning using a dataframe with before/after columns\n",
    "df=pd.DataFrame()\n",
    "df1=pd.DataFrame()\n",
    "df['before']=check1\n",
    "df['after']=regional['CCG']\n",
    "df1['before']=df['before'].unique()\n",
    "df1['after']=df['after'].unique()\n",
    "print (df1)"
   ]
  },
  {
   "cell_type": "code",
   "execution_count": 81,
   "metadata": {},
   "outputs": [
    {
     "data": {
      "text/html": [
       "<div>\n",
       "<style scoped>\n",
       "    .dataframe tbody tr th:only-of-type {\n",
       "        vertical-align: middle;\n",
       "    }\n",
       "\n",
       "    .dataframe tbody tr th {\n",
       "        vertical-align: top;\n",
       "    }\n",
       "\n",
       "    .dataframe thead th {\n",
       "        text-align: right;\n",
       "    }\n",
       "</style>\n",
       "<table border=\"1\" class=\"dataframe\">\n",
       "  <thead>\n",
       "    <tr style=\"text-align: right;\">\n",
       "      <th></th>\n",
       "      <th>Region geography code</th>\n",
       "      <th>Region name</th>\n",
       "      <th>Sub-region geography code</th>\n",
       "      <th>Sub-region name</th>\n",
       "      <th>CCG geography code</th>\n",
       "      <th>CCG</th>\n",
       "      <th>Practice code</th>\n",
       "      <th>Practice name</th>\n",
       "    </tr>\n",
       "  </thead>\n",
       "  <tbody>\n",
       "    <tr>\n",
       "      <th>0</th>\n",
       "      <td>E40000001</td>\n",
       "      <td>NORTH OF ENGLAND</td>\n",
       "      <td>E39000029</td>\n",
       "      <td>YORKSHIRE AND HUMBER</td>\n",
       "      <td>E38000001</td>\n",
       "      <td>AIREDALE, WHARFEDALE AND CRAVEN</td>\n",
       "      <td>B82007</td>\n",
       "      <td>TOWNHEAD SURGERY</td>\n",
       "    </tr>\n",
       "    <tr>\n",
       "      <th>1</th>\n",
       "      <td>E40000001</td>\n",
       "      <td>NORTH OF ENGLAND</td>\n",
       "      <td>E39000029</td>\n",
       "      <td>YORKSHIRE AND HUMBER</td>\n",
       "      <td>E38000001</td>\n",
       "      <td>AIREDALE, WHARFEDALE AND CRAVEN</td>\n",
       "      <td>B82020</td>\n",
       "      <td>CROSS HILLS GROUP PRACTICE</td>\n",
       "    </tr>\n",
       "    <tr>\n",
       "      <th>2</th>\n",
       "      <td>E40000001</td>\n",
       "      <td>NORTH OF ENGLAND</td>\n",
       "      <td>E39000029</td>\n",
       "      <td>YORKSHIRE AND HUMBER</td>\n",
       "      <td>E38000001</td>\n",
       "      <td>AIREDALE, WHARFEDALE AND CRAVEN</td>\n",
       "      <td>B82028</td>\n",
       "      <td>FISHER MEDICAL CENTRE</td>\n",
       "    </tr>\n",
       "    <tr>\n",
       "      <th>3</th>\n",
       "      <td>E40000001</td>\n",
       "      <td>NORTH OF ENGLAND</td>\n",
       "      <td>E39000029</td>\n",
       "      <td>YORKSHIRE AND HUMBER</td>\n",
       "      <td>E38000001</td>\n",
       "      <td>AIREDALE, WHARFEDALE AND CRAVEN</td>\n",
       "      <td>B82053</td>\n",
       "      <td>DYNELEY HOUSE SURGERY</td>\n",
       "    </tr>\n",
       "    <tr>\n",
       "      <th>4</th>\n",
       "      <td>E40000001</td>\n",
       "      <td>NORTH OF ENGLAND</td>\n",
       "      <td>E39000029</td>\n",
       "      <td>YORKSHIRE AND HUMBER</td>\n",
       "      <td>E38000001</td>\n",
       "      <td>AIREDALE, WHARFEDALE AND CRAVEN</td>\n",
       "      <td>B83002</td>\n",
       "      <td>ILKLEY &amp; WHARFEDALE MEDICAL PRACTICE</td>\n",
       "    </tr>\n",
       "  </tbody>\n",
       "</table>\n",
       "</div>"
      ],
      "text/plain": [
       "  Region geography code       Region name Sub-region geography code  \\\n",
       "0             E40000001  NORTH OF ENGLAND                 E39000029   \n",
       "1             E40000001  NORTH OF ENGLAND                 E39000029   \n",
       "2             E40000001  NORTH OF ENGLAND                 E39000029   \n",
       "3             E40000001  NORTH OF ENGLAND                 E39000029   \n",
       "4             E40000001  NORTH OF ENGLAND                 E39000029   \n",
       "\n",
       "         Sub-region name CCG geography code                              CCG  \\\n",
       "0   YORKSHIRE AND HUMBER          E38000001  AIREDALE, WHARFEDALE AND CRAVEN   \n",
       "1   YORKSHIRE AND HUMBER          E38000001  AIREDALE, WHARFEDALE AND CRAVEN   \n",
       "2   YORKSHIRE AND HUMBER          E38000001  AIREDALE, WHARFEDALE AND CRAVEN   \n",
       "3   YORKSHIRE AND HUMBER          E38000001  AIREDALE, WHARFEDALE AND CRAVEN   \n",
       "4   YORKSHIRE AND HUMBER          E38000001  AIREDALE, WHARFEDALE AND CRAVEN   \n",
       "\n",
       "  Practice code                         Practice name  \n",
       "0        B82007                      TOWNHEAD SURGERY  \n",
       "1        B82020            CROSS HILLS GROUP PRACTICE  \n",
       "2        B82028                 FISHER MEDICAL CENTRE  \n",
       "3        B82053                 DYNELEY HOUSE SURGERY  \n",
       "4        B83002  ILKLEY & WHARFEDALE MEDICAL PRACTICE  "
      ]
     },
     "execution_count": 81,
     "metadata": {},
     "output_type": "execute_result"
    }
   ],
   "source": [
    "regional.head()"
   ]
  },
  {
   "cell_type": "code",
   "execution_count": 84,
   "metadata": {},
   "outputs": [],
   "source": [
    "regional.to_csv('./tables/regions_ccgs.csv')"
   ]
  }
 ],
 "metadata": {
  "kernelspec": {
   "display_name": "Python 3",
   "language": "python",
   "name": "python3"
  },
  "language_info": {
   "codemirror_mode": {
    "name": "ipython",
    "version": 3
   },
   "file_extension": ".py",
   "mimetype": "text/x-python",
   "name": "python",
   "nbconvert_exporter": "python",
   "pygments_lexer": "ipython3",
   "version": "3.7.4"
  }
 },
 "nbformat": 4,
 "nbformat_minor": 2
}
