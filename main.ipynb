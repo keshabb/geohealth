{
 "cells": [
  {
   "cell_type": "code",
   "execution_count": 1,
   "metadata": {
    "scrolled": false
   },
   "outputs": [
    {
     "data": {
      "text/html": [
       "<h1 style=\"color:magenta\">Geo Health</h1>              <p style=\"color:blue\">Select one or two of the following features. You can select multiple values for each:</p>                 <ul>                  <li style=\"color:magenta\">Prescribing: Monthly, 2018-19</li>                  <li style=\"color:magenta\">Prevalence: Annual, 2014-19</li>                  <li style=\"color:magenta\">Age and Gender: Monthly, 2018-19</li>                  <li style=\"color:magenta\">Deprivation: 2015, 2019</li>                </ul>"
      ],
      "text/plain": [
       "<IPython.core.display.HTML object>"
      ]
     },
     "metadata": {},
     "output_type": "display_data"
    },
    {
     "data": {
      "application/vnd.jupyter.widget-view+json": {
       "model_id": "161b6946671744b2b348f550dc98fe77",
       "version_major": 2,
       "version_minor": 0
      },
      "text/plain": [
       "VBox(children=(Tab(children=(HBox(children=(SelectMultiple(description='BNF Code:', index=(0, 1), layout=Layou…"
      ]
     },
     "metadata": {},
     "output_type": "display_data"
    }
   ],
   "source": [
    "from IPython.display import display, HTML\n",
    "import pandas as pd\n",
    "import time\n",
    "import re\n",
    "import os\n",
    "import sys\n",
    "import psycopg2\n",
    "import ipywidgets as widgets\n",
    "from bokeh.io import output_file, show\n",
    "from bokeh.models import CheckboxGroup\n",
    "from ipywidgets import interact, interactive, fixed, Layout, HBox, VBox\n",
    "\n",
    "# Project functions and classes\n",
    "if './modules/' not in sys.path: sys.path.append('./modules')\n",
    "from widgets import *\n",
    "from selection import *\n",
    "from build_statements import *\n",
    "from query import *\n",
    "from plot import *   \n",
    "from outliers import *\n",
    "\n",
    "def query_plot(b):\n",
    "    start = time.time()\n",
    "    default = ('ignore','   ')\n",
    "    dd_default = ('ignore',)\n",
    "    \n",
    "    with output:\n",
    "        # Prevalence value to tuple\n",
    "        b = [1]\n",
    "        b[0] = prevalence_indications_dd.value\n",
    "        prevalence_indications_dd_tuple = tuple(b)\n",
    "        b = [1]\n",
    "        b[0] = deprivation_dd.value\n",
    "        deprivation_indications_dd_tuple = tuple(b)\n",
    "        \n",
    "        features_values={'prescribing':[bnf_code_dd.value,'bnf_code',prescribing_measures_dd.value,\\\n",
    "                                        month_dd.value,year_dd.value],\\\n",
    "                'prevalence':[prevalence_indications_dd_tuple,'indication',\\\n",
    "                              prevalence_measures_dd.value,'',year_dd.value],\\\n",
    "                'gender':[gender_dd.value,'sex',gender_age_measures_dd.value,\\\n",
    "                          month_dd.value,year_dd.value],\\\n",
    "                'age_groups':[age_groups_dd.value,'age_group',gender_age_measures_dd.value,\\\n",
    "                              month_dd.value,year_dd.value],\\\n",
    "                'deprivation':[deprivation_indications_dd_tuple,'deprivation_index',\\\n",
    "                               deprivation_measures_dd.value,'',year_dd.value]}\n",
    "        \n",
    "        headers = ['value','value_header','measure_header','month','year']\n",
    "        fvdf = pd.DataFrame.from_dict(features_values, orient='index',columns=headers)\n",
    "        fvdf = fvdf[~fvdf['value'].isin([default,dd_default])]\n",
    "        fvdf=fvdf.fillna('not_selected')\n",
    "        features = list (fvdf.index)\n",
    "        tables = get_tables(fvdf,features)\n",
    "        fvdf['table'] = tables\n",
    "        \n",
    "        # Validate the selection so that all fields are provided correctly  \n",
    "        error, comment = validate (fvdf,features)\n",
    "        if error:\n",
    "            display(HTML('<h3 style=\"color:red\">{comment}</h1>'.format (comment = comment)))\n",
    "        \n",
    "        else:\n",
    "            # Use the query to build a title for the plot\n",
    "            features_titles=get_title(fvdf)\n",
    "\n",
    "            # Build query statements for the features selected\n",
    "            statements = {}\n",
    "\n",
    "            # If both age and gender were selected\n",
    "            if ({'age_groups','gender'}) <= set(features):\n",
    "                built_statement = genderANDage_statement(fvdf).build()\n",
    "                statements['gender_age_groups'] = built_statement\n",
    "                features = [feature for feature in features if feature not in ['age_groups','gender']]\n",
    "\n",
    "            for feature in features:\n",
    "                st = statement (feature,fvdf)\n",
    "                built_statement = '{sel}\\n{whe}\\n{grp}'.format (sel=st.select (feature),\\\n",
    "                whe=st.where(feature),grp=st.groupby(feature))\n",
    "                statements[feature] = built_statement\n",
    "\n",
    "            # Locations data\n",
    "            location_statement = \"SELECT practice,practice_code,ccg,region,sub_region,\\\n",
    "                                  longitudemerc,latitudemerc\\\n",
    "                                  FROM practices_locations\"\n",
    "            statements['location']=location_statement\n",
    "\n",
    "            # Use the statement to query the relevant tables\n",
    "            queries_df=query(statements)\n",
    "\n",
    "            # Check outliers in value columns\n",
    "            outliers_choice_selection = outliers_choice.value\n",
    "            if outliers_choice_selection == 'Remove':\n",
    "                geo_columns=['practice_code', 'practice', 'ccg','region','sub_region', 'longitudemerc','latitudemerc']\n",
    "                value_headers=[h for h in queries_df.columns if h not in geo_columns]\n",
    "                outliers_indices_collect=[]\n",
    "                for header in value_headers:\n",
    "                    outliers_indices = detect_indices(queries_df,header)\n",
    "                    outliers_indices_collect+=outliers_indices\n",
    "                queries_df=queries_df[~queries_df.index.isin(outliers_indices_collect)]\n",
    "            \n",
    "            # Download the joined data for the user\n",
    "            download_choice_selection = download_choice.value\n",
    "            if download_choice == 'CSV':\n",
    "                queries_df.to_csv('queries_df.csv',index=False)\n",
    "            elif download_choice == 'Excel':\n",
    "                queries_df.to_csv('queries_df.xlsx',index=False)\n",
    "            \n",
    "            # Execution time\n",
    "            print ('query execution time = {t} seconds'.format (t=round (time.time()-start))) \n",
    "            \n",
    "            # Generate plot\n",
    "            output_choice_selection = output_choice.value\n",
    "            map_plot(queries_df,features_titles, output_choice_selection)\n",
    "        \n",
    "        \n",
    "# Dashboard\n",
    "output = widgets.Output()\n",
    "button.on_click(query_plot)\n",
    "display(HTML('<h1 style=\"color:magenta\">Geo Health</h1>\\\n",
    "              <p style=\"color:blue\">Select one or two of the following features. You can select multiple values for each:</p>\\\n",
    "                 <ul>\\\n",
    "                  <li style=\"color:magenta\">Prescribing: Monthly, 2018-19</li>\\\n",
    "                  <li style=\"color:magenta\">Prevalence: Annual, 2014-19</li>\\\n",
    "                  <li style=\"color:magenta\">Age and Gender: Monthly, 2018-19</li>\\\n",
    "                  <li style=\"color:magenta\">Deprivation: 2015, 2019</li>\\\n",
    "                </ul>'))\n",
    "\n",
    "VBox(children=[tabs,button_date_box,output])"
   ]
  },
  {
   "cell_type": "code",
   "execution_count": 2,
   "metadata": {},
   "outputs": [
    {
     "data": {
      "text/html": [
       "<script>\n",
       "code_show=true; \n",
       "function code_toggle() {\n",
       " if (code_show){\n",
       " $('div.input').hide();\n",
       " } else {\n",
       " $('div.input').show();\n",
       " }\n",
       " code_show = !code_show\n",
       "} \n",
       "$( document ).ready(code_toggle);\n",
       "</script>\n",
       "The raw code for this IPython notebook is by default hidden for easier reading.\n",
       "To toggle on/off the raw code, click <a href=\"javascript:code_toggle()\">here</a>."
      ],
      "text/plain": [
       "<IPython.core.display.HTML object>"
      ]
     },
     "execution_count": 2,
     "metadata": {},
     "output_type": "execute_result"
    }
   ],
   "source": [
    "HTML('''<script>\n",
    "code_show=true; \n",
    "function code_toggle() {\n",
    " if (code_show){\n",
    " $('div.input').hide();\n",
    " } else {\n",
    " $('div.input').show();\n",
    " }\n",
    " code_show = !code_show\n",
    "} \n",
    "$( document ).ready(code_toggle);\n",
    "</script>\n",
    "The raw code for this IPython notebook is by default hidden for easier reading.\n",
    "To toggle on/off the raw code, click <a href=\"javascript:code_toggle()\">here</a>.''')"
   ]
  }
 ],
 "metadata": {
  "kernelspec": {
   "display_name": "Python 3",
   "language": "python",
   "name": "python3"
  },
  "language_info": {
   "codemirror_mode": {
    "name": "ipython",
    "version": 3
   },
   "file_extension": ".py",
   "mimetype": "text/x-python",
   "name": "python",
   "nbconvert_exporter": "python",
   "pygments_lexer": "ipython3",
   "version": "3.7.4"
  }
 },
 "nbformat": 4,
 "nbformat_minor": 2
}
