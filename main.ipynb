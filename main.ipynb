{
 "cells": [
  {
   "cell_type": "code",
   "execution_count": null,
   "metadata": {},
   "outputs": [],
   "source": [
    "from IPython.display import HTML\n",
    "import pandas as pd\n",
    "import time\n",
    "import re\n",
    "import os\n",
    "import sys\n",
    "import ipywidgets as widgets\n",
    "from ipywidgets import interact, interactive, fixed, Layout, HBox, VBox\n",
    "\n",
    "if './modules/' not in sys.path:\n",
    "    sys.path.append('./modules')\n",
    "from drop_downs import *\n",
    "from build_statements import *\n",
    "from query import *\n",
    "from plot import *    \n",
    "\n",
    "def query_plot(b):\n",
    "    with output:\n",
    "        features={'prescribing':bnf_code_dd.value,\\\n",
    "                'prevalence':prevalence_indications_dd.value,\\\n",
    "                'gender':gender_dd.value,\\\n",
    "                'age_groups':age_groups_dd.value,\\\n",
    "                'deprivation':deprivation_dd.value}\n",
    "        \n",
    "        measures={'prescribing':prescribing_measures_dd.value,\n",
    "                  'prevalence':prevalence_measures_dd.value,\n",
    "                  'deprivation':deprivation_measures_dd.value}\n",
    "        \n",
    "        period={'month':months_dd.value,'year':years_dd.value}\n",
    "        \n",
    "        statements,title=build_statements(features,measures,period)\n",
    "        queries_df=query(statements)\n",
    "        # Add outliers removal so the chart will reflect the range of most practices\n",
    "        \n",
    "        map_plot(queries_df,title)\n",
    "\n",
    "# Dashboard\n",
    "output = widgets.Output()\n",
    "button.on_click(query_plot)\n",
    "VBox(children=[tab, button,output])"
   ]
  },
  {
   "cell_type": "code",
   "execution_count": null,
   "metadata": {},
   "outputs": [],
   "source": []
  }
 ],
 "metadata": {
  "kernelspec": {
   "display_name": "Python 3",
   "language": "python",
   "name": "python3"
  },
  "language_info": {
   "codemirror_mode": {
    "name": "ipython",
    "version": 3
   },
   "file_extension": ".py",
   "mimetype": "text/x-python",
   "name": "python",
   "nbconvert_exporter": "python",
   "pygments_lexer": "ipython3",
   "version": "3.7.4"
  }
 },
 "nbformat": 4,
 "nbformat_minor": 2
}
