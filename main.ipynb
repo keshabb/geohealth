{
 "cells": [
  {
   "cell_type": "code",
   "execution_count": 3,
   "metadata": {
    "scrolled": false
   },
   "outputs": [
    {
     "data": {
      "text/html": [
       "<h1>Geo Health Dashboard</h1>"
      ],
      "text/plain": [
       "<IPython.core.display.HTML object>"
      ]
     },
     "metadata": {},
     "output_type": "display_data"
    },
    {
     "data": {
      "application/vnd.jupyter.widget-view+json": {
       "model_id": "bb87bce69b004f2294d7f219c6a7cfb1",
       "version_major": 2,
       "version_minor": 0
      },
      "text/plain": [
       "VBox(children=(Tab(children=(HBox(children=(SelectMultiple(description='BNF Code:', index=(0, 1), layout=Layou…"
      ]
     },
     "metadata": {},
     "output_type": "display_data"
    }
   ],
   "source": [
    "from IPython.display import display, HTML\n",
    "import pandas as pd\n",
    "import time\n",
    "import re\n",
    "import os\n",
    "import sys\n",
    "import ipywidgets as widgets\n",
    "from bokeh.io import output_file, show\n",
    "from bokeh.models import CheckboxGroup\n",
    "from ipywidgets import interact, interactive, fixed, Layout, HBox, VBox\n",
    "\n",
    "if './modules/' not in sys.path:\n",
    "    sys.path.append('./modules')\n",
    "from drop_downs import *\n",
    "from build_statements import *\n",
    "from query import *\n",
    "from plot import *   \n",
    "from outliers import *\n",
    "from tasks import *\n",
    "\n",
    "default = ('ignore','   ')\n",
    "def query_plot(b):\n",
    "    with output:\n",
    "        display(HTML('<h2>Results</h2>'))\n",
    "\n",
    "        features_values={'prescribing':[bnf_code_dd.value,'bnf_code',prescribing_measures_dd.value,\\\n",
    "                                        month_dd.value,year_dd.value],\\\n",
    "                'prevalence':[prevalence_indications_dd.value,'indication',prevalence_measures_dd.value,'',year_dd.value],\\\n",
    "                'gender':[gender_dd.value,'sex',gender_age_measures_dd.value,\\\n",
    "                          month_dd.value,year_dd.value],\\\n",
    "                'age_groups':[age_groups_dd.value,'age_group',gender_age_measures_dd.value,\\\n",
    "                              month_dd.value,year_dd.value],\\\n",
    "                'deprivation':[deprivation_dd.value,'deprivation_index',deprivation_measures_dd.value,'',year_dd.value]}\n",
    "        \n",
    "        headers=['value','value_header','measure_header','month','year']\n",
    "        fvdf=pd.DataFrame.from_dict(features_values, orient='index',columns=headers)\n",
    "        fvdf=fvdf[fvdf['value']!=default]\n",
    "        fvdf=fvdf.fillna('not_selected')\n",
    "        features = fvdf.index\n",
    "        fvdf['table'] = get_tables(fvdf,features)\n",
    "        #print (fvdf) ##print (fvdf) #pandas 1: #print (fvdf.to_markdown())\n",
    "        \n",
    "        # Query format\n",
    "        title=get_title(fvdf)\n",
    "        #print ('Query:\\n',title)\n",
    "        \n",
    "        # check/#print errors: (query_format(fvdf))\n",
    "        \n",
    "        # Build query statements for the features selected\n",
    "        #print ('\\n**** statements ****\\n')\n",
    "        statements = {}\n",
    "        \n",
    "        # If both age and gender were selected\n",
    "        if ({'age_groups','gender'}) <= set(features):\n",
    "            #print ( 'age groups:', fvdf.loc ['age_groups','value'],fvdf.loc ['age_groups','value_header'])\n",
    "            #print ( 'gender:', fvdf.loc ['gender','value'],fvdf.loc ['gender','value_header'])\n",
    "            built_statement = combined_statement(fvdf).build()\n",
    "            #print (built_statement)\n",
    "            statements['age_groups_gender'] = built_statement\n",
    "            features = [feature for feature in features if feature not in ['age_groups','gender']]\n",
    "        \n",
    "        #print ('features remaining:',features)\n",
    "        for feature in features:\n",
    "            ##print ('feature:', feature)\n",
    "            st = statement (feature,fvdf)\n",
    "            #print (st.value,st.measure_header,st.table)\n",
    "            built_statement = '{sel}\\n{whe}\\n{grp}'.format (sel=st.select (feature),\\\n",
    "            whe=st.where(feature),grp=st.groupby(feature))\n",
    "            # built_statement = st.build(feature)\n",
    "            ##print ('statement:\\n',built_statement)\n",
    "            ##print ('*****')\n",
    "            statements[feature] = built_statement\n",
    "\n",
    "        # Locations data\n",
    "        location_statement = \"SELECT practice,practice_code,ccg,region,sub_region,longitudemerc,latitudemerc\\\n",
    "                     FROM practices_locations\"\n",
    "        statements['location']=location_statement\n",
    "        \n",
    "        #print ('\\n\\nstatements\\n\\n')\n",
    "        #for feature, built_statement in statements.items():\n",
    "        #print ('{f}:\\n {bs}\\n*****'.format(f=feature, bs=built_statement))\n",
    "        \n",
    "        # Use the statement to query the relevant tables\n",
    "        queries_df=query(statements)\n",
    "        \n",
    "        #print (\"****** Queries Results *******\\n\")\n",
    "        #print (queries_df.columns)\n",
    "        #print (queries_df.head())\n",
    "        #print (queries_df.info())\n",
    "        \n",
    "        # Outliers in value_columns\n",
    "        geo_columns=['practice_code', 'practice', 'ccg','region','sub_region', 'longitudemerc','latitudemerc']\n",
    "        value_headers=[h for h in queries_df.columns if h not in geo_columns]\n",
    "        #print ('value_headers:',value_headers)\n",
    "        outliers_indices_collect=[]\n",
    "        \n",
    "        #print (\"\\n\\n****** Ouliers Detection and Removal *******\\n\")\n",
    "\n",
    "        for header in value_headers:\n",
    "            outliers_indices = detect_indices(queries_df,header)\n",
    "            #print (len (outliers_indices))\n",
    "            #print (outliers_indices)\n",
    "            outliers_indices_collect+=outliers_indices\n",
    "        #print (len(outliers_indices_collect))\n",
    "        #print (outliers_indices_collect)\n",
    "        queries_df=queries_df[~queries_df.index.isin(outliers_indices_collect)]\n",
    "        \n",
    "        #print (\"\\n\\n****** Results, Outliers removed *******\\n\")\n",
    "        #print (queries_df.columns)\n",
    "        #print (queries_df.head())\n",
    "        #print (queries_df.info())\n",
    "        \n",
    "        #print (value_headers)\n",
    "        queries_df.to_csv('queries_df.csv',index=False)\n",
    "        #print ('\\n\\nplot')\n",
    "        \n",
    "        map_plot(queries_df,title)\n",
    "        \n",
    "        \n",
    "# Dashboard\n",
    "output = widgets.Output()\n",
    "button.on_click(query_plot)\n",
    "display(HTML('<h1>Geo Health Dashboard</h1>'))\n",
    "VBox(children=[tabs,button_date_box,output])"
   ]
  },
  {
   "cell_type": "code",
   "execution_count": 2,
   "metadata": {},
   "outputs": [
    {
     "data": {
      "text/html": [
       "<script>\n",
       "code_show=true; \n",
       "function code_toggle() {\n",
       " if (code_show){\n",
       " $('div.input').hide();\n",
       " } else {\n",
       " $('div.input').show();\n",
       " }\n",
       " code_show = !code_show\n",
       "} \n",
       "$( document ).ready(code_toggle);\n",
       "</script>\n",
       "The raw code for this IPython notebook is by default hidden for easier reading.\n",
       "To toggle on/off the raw code, click <a href=\"javascript:code_toggle()\">here</a>."
      ],
      "text/plain": [
       "<IPython.core.display.HTML object>"
      ]
     },
     "execution_count": 2,
     "metadata": {},
     "output_type": "execute_result"
    }
   ],
   "source": [
    "HTML('''<script>\n",
    "code_show=true; \n",
    "function code_toggle() {\n",
    " if (code_show){\n",
    " $('div.input').hide();\n",
    " } else {\n",
    " $('div.input').show();\n",
    " }\n",
    " code_show = !code_show\n",
    "} \n",
    "$( document ).ready(code_toggle);\n",
    "</script>\n",
    "The raw code for this IPython notebook is by default hidden for easier reading.\n",
    "To toggle on/off the raw code, click <a href=\"javascript:code_toggle()\">here</a>.''')"
   ]
  }
 ],
 "metadata": {
  "kernelspec": {
   "display_name": "Python 3",
   "language": "python",
   "name": "python3"
  },
  "language_info": {
   "codemirror_mode": {
    "name": "ipython",
    "version": 3
   },
   "file_extension": ".py",
   "mimetype": "text/x-python",
   "name": "python",
   "nbconvert_exporter": "python",
   "pygments_lexer": "ipython3",
   "version": "3.7.4"
  }
 },
 "nbformat": 4,
 "nbformat_minor": 2
}
